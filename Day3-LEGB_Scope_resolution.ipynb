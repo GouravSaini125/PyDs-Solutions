{
 "cells": [
  {
   "cell_type": "code",
   "execution_count": 2,
   "metadata": {},
   "outputs": [
    {
     "name": "stdout",
     "output_type": "stream",
     "text": [
      "inner pi variable\n"
     ]
    }
   ],
   "source": [
    "# Local Scope \n",
    "\n",
    "pi = 'global pi variable'\n",
    "def inner(): \n",
    "\tpi = 'inner pi variable'\n",
    "\tprint(pi) \n",
    "\n",
    "inner() \n"
   ]
  },
  {
   "cell_type": "code",
   "execution_count": 3,
   "metadata": {},
   "outputs": [
    {
     "name": "stdout",
     "output_type": "stream",
     "text": [
      "inner pi variable\n",
      "global pi variable\n"
     ]
    }
   ],
   "source": [
    "# Global Scope \n",
    "\n",
    "pi = 'global pi variable'\n",
    "def inner(): \n",
    "\tpi = 'inner pi variable'\n",
    "\tprint(pi) \n",
    "\n",
    "inner() \n",
    "print(pi) \n"
   ]
  },
  {
   "cell_type": "code",
   "execution_count": 4,
   "metadata": {},
   "outputs": [
    {
     "name": "stdout",
     "output_type": "stream",
     "text": [
      "outer pi variable\n",
      "global pi variable\n"
     ]
    }
   ],
   "source": [
    "# Enclosed Scope \n",
    "\n",
    "pi = 'global pi variable'\n",
    "\n",
    "def outer(): \n",
    "\tpi = 'outer pi variable'\n",
    "\tdef inner(): \n",
    "\t\t# pi = 'inner pi variable' \n",
    "\t\tnonlocal pi \n",
    "\t\tprint(pi) \n",
    "\tinner() \n",
    "\n",
    "outer() \n",
    "print(pi) \n"
   ]
  },
  {
   "cell_type": "code",
   "execution_count": 5,
   "metadata": {},
   "outputs": [
    {
     "name": "stdout",
     "output_type": "stream",
     "text": [
      "3.141592653589793\n"
     ]
    }
   ],
   "source": [
    "# Built-in Scope \n",
    "from math import pi \n",
    "\n",
    "# pi = 'global pi variable' \n",
    "\n",
    "def outer(): \n",
    "\t# pi = 'outer pi variable' \n",
    "\tdef inner(): \n",
    "\t\t# pi = 'inner pi variable' \n",
    "\t\tprint(pi) \n",
    "\tinner() \n",
    "\n",
    "outer() \n"
   ]
  },
  {
   "cell_type": "code",
   "execution_count": null,
   "metadata": {},
   "outputs": [],
   "source": []
  }
 ],
 "metadata": {
  "kernelspec": {
   "display_name": "Python 3",
   "language": "python",
   "name": "python3"
  },
  "language_info": {
   "codemirror_mode": {
    "name": "ipython",
    "version": 3
   },
   "file_extension": ".py",
   "mimetype": "text/x-python",
   "name": "python",
   "nbconvert_exporter": "python",
   "pygments_lexer": "ipython3",
   "version": "3.8.1"
  }
 },
 "nbformat": 4,
 "nbformat_minor": 4
}
