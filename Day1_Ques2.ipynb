{
 "cells": [
  {
   "cell_type": "code",
   "execution_count": 2,
   "metadata": {},
   "outputs": [
    {
     "name": "stdout",
     "output_type": "stream",
     "text": [
      "The two strings are not anagram of each other\n"
     ]
    }
   ],
   "source": [
    "# Python program to check whether two strings are \n",
    "# anagrams of each other \n",
    "\n",
    "# function to check whether two strings are anagram \n",
    "# of each other \n",
    "def areAnagram(str1, str2): \n",
    "\t# Get lengths of both strings \n",
    "\tn1 = len(str1) \n",
    "\tn2 = len(str2) \n",
    "\n",
    "\t# If lenght of both strings is not same, then \n",
    "\t# they cannot be anagram \n",
    "\tif n1 != n2: \n",
    "\t\treturn 0\n",
    "\n",
    "\t# Sort both strings \n",
    "\tstr1 = sorted(str1) \n",
    "\tstr2 = sorted(str2) \n",
    "\n",
    "\t# Compare sorted strings \n",
    "\tfor i in range(0, n1): \n",
    "\t\tif str1[i] != str2[i]: \n",
    "\t\t\treturn 0\n",
    "\n",
    "\treturn 1\n",
    "\n",
    "\n",
    "# Driver program to test the above function \n",
    "str1 = \"test\"\n",
    "str2 = \"ttew\"\n",
    "if areAnagram(str1, str2): \n",
    "\tprint (\"The two strings are anagram of each other\") \n",
    "else: \n",
    "\tprint (\"The two strings are not anagram of each other\") \n",
    "\n",
    "\n"
   ]
  },
  {
   "cell_type": "code",
   "execution_count": null,
   "metadata": {},
   "outputs": [],
   "source": []
  }
 ],
 "metadata": {
  "kernelspec": {
   "display_name": "Python 3",
   "language": "python",
   "name": "python3"
  },
  "language_info": {
   "codemirror_mode": {
    "name": "ipython",
    "version": 3
   },
   "file_extension": ".py",
   "mimetype": "text/x-python",
   "name": "python",
   "nbconvert_exporter": "python",
   "pygments_lexer": "ipython3",
   "version": "3.8.1"
  }
 },
 "nbformat": 4,
 "nbformat_minor": 4
}
